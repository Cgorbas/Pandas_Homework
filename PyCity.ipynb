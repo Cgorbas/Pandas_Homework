{
 "cells": [
  {
   "cell_type": "code",
   "execution_count": 36,
   "metadata": {},
   "outputs": [
    {
     "data": {
      "text/plain": [
       "Index(['Student ID', 'student_name', 'gender', 'grade', 'school_name',\n",
       "       'reading_score', 'math_score', 'School ID', 'type', 'size', 'budget'],\n",
       "      dtype='object')"
      ]
     },
     "execution_count": 36,
     "metadata": {},
     "output_type": "execute_result"
    }
   ],
   "source": [
    "# Dependencies and Setup\n",
    "import pandas as pd\n",
    "import numpy as np\n",
    "\n",
    "# File to Load (Remember to Change These)\n",
    "school_data_to_load = \"Resources/schools_complete.csv\"\n",
    "student_data_to_load = \"Resources/students_complete.csv\"\n",
    "\n",
    "# Read School and Student Data File and store into Pandas Data Frames\n",
    "school_data = pd.read_csv(school_data_to_load)\n",
    "student_data = pd.read_csv(student_data_to_load)\n",
    "\n",
    "# Combine the data into a single dataset\n",
    "school_data_complete_pf = pd.merge(student_data, school_data, how=\"left\", on=[\"school_name\", \"school_name\"])\n",
    "#school_data_complete_pf.head(2)\n",
    "#school_data_complete_pf.describe()\n",
    "school_data_complete_pf.columns\n",
    "#school_data_complete_pf.shape"
   ]
  },
  {
   "cell_type": "code",
   "execution_count": 119,
   "metadata": {},
   "outputs": [
    {
     "name": "stderr",
     "output_type": "stream",
     "text": [
      "C:\\Users\\CopperSun\\Anaconda3\\lib\\site-packages\\ipykernel_launcher.py:15: SettingWithCopyWarning: \n",
      "A value is trying to be set on a copy of a slice from a DataFrame.\n",
      "Try using .loc[row_indexer,col_indexer] = value instead\n",
      "\n",
      "See the caveats in the documentation: http://pandas.pydata.org/pandas-docs/stable/indexing.html#indexing-view-versus-copy\n",
      "  from ipykernel import kernelapp as app\n",
      "C:\\Users\\CopperSun\\Anaconda3\\lib\\site-packages\\ipykernel_launcher.py:16: SettingWithCopyWarning: \n",
      "A value is trying to be set on a copy of a slice from a DataFrame.\n",
      "Try using .loc[row_indexer,col_indexer] = value instead\n",
      "\n",
      "See the caveats in the documentation: http://pandas.pydata.org/pandas-docs/stable/indexing.html#indexing-view-versus-copy\n",
      "  app.launch_new_instance()\n",
      "C:\\Users\\CopperSun\\Anaconda3\\lib\\site-packages\\ipykernel_launcher.py:17: SettingWithCopyWarning: \n",
      "A value is trying to be set on a copy of a slice from a DataFrame.\n",
      "Try using .loc[row_indexer,col_indexer] = value instead\n",
      "\n",
      "See the caveats in the documentation: http://pandas.pydata.org/pandas-docs/stable/indexing.html#indexing-view-versus-copy\n",
      "C:\\Users\\CopperSun\\Anaconda3\\lib\\site-packages\\ipykernel_launcher.py:39: SettingWithCopyWarning: \n",
      "A value is trying to be set on a copy of a slice from a DataFrame.\n",
      "Try using .loc[row_indexer,col_indexer] = value instead\n",
      "\n",
      "See the caveats in the documentation: http://pandas.pydata.org/pandas-docs/stable/indexing.html#indexing-view-versus-copy\n",
      "C:\\Users\\CopperSun\\Anaconda3\\lib\\site-packages\\ipykernel_launcher.py:40: SettingWithCopyWarning: \n",
      "A value is trying to be set on a copy of a slice from a DataFrame.\n",
      "Try using .loc[row_indexer,col_indexer] = value instead\n",
      "\n",
      "See the caveats in the documentation: http://pandas.pydata.org/pandas-docs/stable/indexing.html#indexing-view-versus-copy\n",
      "C:\\Users\\CopperSun\\Anaconda3\\lib\\site-packages\\ipykernel_launcher.py:41: SettingWithCopyWarning: \n",
      "A value is trying to be set on a copy of a slice from a DataFrame.\n",
      "Try using .loc[row_indexer,col_indexer] = value instead\n",
      "\n",
      "See the caveats in the documentation: http://pandas.pydata.org/pandas-docs/stable/indexing.html#indexing-view-versus-copy\n",
      "C:\\Users\\CopperSun\\Anaconda3\\lib\\site-packages\\ipykernel_launcher.py:44: SettingWithCopyWarning: \n",
      "A value is trying to be set on a copy of a slice from a DataFrame.\n",
      "Try using .loc[row_indexer,col_indexer] = value instead\n",
      "\n",
      "See the caveats in the documentation: http://pandas.pydata.org/pandas-docs/stable/indexing.html#indexing-view-versus-copy\n"
     ]
    },
    {
     "name": "stdout",
     "output_type": "stream",
     "text": [
      "(['Total Schools', 7], ['Total Students', 26976], ['Total Budget', 17347923], ['Math Avg', 76.98702550415184], ['Reading Avg', 80.96248517200475], ['Math Passing Percent', 66.51838671411625], ['Reading Passing Percent', 80.90524911032028], ['overall Passing Percent', 73.71181791221827])\n"
     ]
    }
   ],
   "source": [
    "#total schools, total students, total budget, .sum\n",
    "\n",
    "#avg math score,# avg reading score,  .mean\n",
    "\n",
    "#%passing math, %passing Readig %Overall passing rate\n",
    "#passing =  districtData_df[\"reading_score\"] =70\n",
    "\n",
    "#overall math + read\n",
    "#passing rate  >69.99  may need numeric\n",
    "#% math, %read % overall\n",
    "district_data_df=school_data_complete_pf.loc[school_data_complete_pf[\"type\"]==\"District\",:]\n",
    "district_data_df.reset_index(inplace=True)\n",
    "\n",
    "\n",
    "district_data_df[\"Overall_Total\"]=district_data_df[\"reading_score\"] + district_data_df[\"math_score\"]\n",
    "district_data_df[\"Math%\"]=(district_data_df[\"math_score\"]/district_data_df[\"Overall_Total\"])*100\n",
    "district_data_df[\"Reading%\"]=(district_data_df[\"reading_score\"]/district_data_df[\"Overall_Total\"])*100\n",
    "\n",
    "\n",
    "#Calculates Passing\n",
    "def calculate_passing(score):\n",
    "    passingscore=69.99\n",
    "    if score > passingscore:\n",
    "        passing=1\n",
    "    else:\n",
    "        passing=0\n",
    "    return passing\n",
    "\n",
    "#Calculates OverallPassing\n",
    "def calculate_passingOverall(score):\n",
    "    passingscore=69.99\n",
    "    ct=0\n",
    "    if score/2 > passingscore:\n",
    "        passing=1\n",
    "    else:\n",
    "        passing=0\n",
    "    return passing\n",
    "\n",
    "district_data_df['passingReading'] = district_data_df.reading_score.apply(calculate_passing)\n",
    "district_data_df['passingMath'] = district_data_df.math_score.apply(calculate_passing)\n",
    "district_data_df['passingOverall'] = district_data_df.Overall_Total.apply(calculate_passingOverall)\n",
    "cols = ['passingReading', 'passingMath', 'passingOverall']\n",
    "for col in cols:  # Iterate over chosen columns\n",
    "\tdistrict_data_df[col] = pd.to_numeric(district_data_df[col])\n",
    "\n",
    "#District Summary\n",
    "#total schools, total students, total budget, .sum\n",
    "#avg math score,# avg reading score,  .mean\n",
    "school_ct = district_data_df['school_name'].nunique()\n",
    "student_ct = district_data_df['Student ID'].nunique()\n",
    "\n",
    "distschool_data=school_data.loc[school_data[\"type\"]==\"District\",:]\n",
    "\n",
    "total_budget = distschool_data['budget'].sum()\n",
    "avg_math = district_data_df[\"math_score\"].mean()\n",
    "avg_reading = district_data_df[\"reading_score\"].mean()\n",
    "mathpassper = (district_data_df[\"passingMath\"].sum()/student_ct)*100\n",
    "readpassper = ((district_data_df[\"passingReading\"].sum()/student_ct)*100)\n",
    "overallpassper = (((district_data_df[\"passingMath\"].sum() + district_data_df[\"passingReading\"].sum())/2)/student_ct)*100\n",
    "\n",
    "\n",
    "DistrictSumm=([\"Total Schools\",school_ct],\n",
    "              [\"Total Students\",student_ct],\n",
    "              [\"Total Budget\",total_budget],\n",
    "              [\"Math Avg\",avg_math],\n",
    "              [\"Reading Avg\",avg_reading],\n",
    "              [\"Math Passing Percent\",mathpassper],\n",
    "              [\"Reading Passing Percent\",readpassper],\n",
    "              [\"overall Passing Percent\",overallpassper])\n",
    "print(DistrictSumm)\n",
    "\n",
    "#need to print labels as x and values as y\n"
   ]
  },
  {
   "cell_type": "code",
   "execution_count": null,
   "metadata": {},
   "outputs": [],
   "source": [
    "#School Summary  \n",
    "#School Name, School Type, Total Students, Total School  Budget, \n",
    "#per Student Budget, Average Math Score, Average Reading Score\n",
    "#%Passing math, %Passing Reading, Overall Passing Rate (avg of math & read)\n",
    "#\n",
    "#create dataframe for results"
   ]
  },
  {
   "cell_type": "code",
   "execution_count": null,
   "metadata": {},
   "outputs": [],
   "source": [
    "# Schools performance Top  overall passing rate\n",
    "#sort and display the top 5 schools\n",
    "#School Type, Total Students, Total School Budget, $perStudent budget, \n",
    "#average math Score, Averaage Reading score, %Passing Math, %passing reading\n",
    "#%overall passing rate"
   ]
  },
  {
   "cell_type": "code",
   "execution_count": null,
   "metadata": {},
   "outputs": [],
   "source": [
    "# Schools performance Top  overall passing rate\n",
    "#sort and display the bottom five schools\n",
    "#School Type, Total Students, Total School Budget, $perStudent budget, \n",
    "#average math Score, Averaage Reading score, %Passing Math, %passing reading\n",
    "#%overall passing rate"
   ]
  },
  {
   "cell_type": "code",
   "execution_count": null,
   "metadata": {},
   "outputs": [],
   "source": [
    "#Math Scores by Grade  values.count..total?\n",
    "#rows school, cols grades\n",
    "#clean formatting\n"
   ]
  },
  {
   "cell_type": "code",
   "execution_count": null,
   "metadata": {},
   "outputs": [],
   "source": [
    "#Reading Score by Grade\n",
    "#rows school, cols grades\n",
    "#clean formatting\n"
   ]
  },
  {
   "cell_type": "code",
   "execution_count": null,
   "metadata": {},
   "outputs": [],
   "source": [
    "#Scores by School Spending - bins\n",
    "#sample bins:  \n",
    "#    spending_bins=[0,585, 615, 675]\n",
    "#    group_names=[\"<585\",\"585-615\",\"615-645\",\"645-675\"]\n",
    "#Average math score, average reading score, %passing math, %passing reading\n",
    "#overal Passing rate (average of the above two)\n",
    "#bins as rows\n"
   ]
  },
  {
   "cell_type": "code",
   "execution_count": null,
   "metadata": {},
   "outputs": [],
   "source": [
    "Scores by school size\n",
    "#sample bins:\n",
    "#    size_bins=[0,1000,2000,5000]\n",
    "#    group_names = [\"Sma(<1000)\",\"Medium (1000-2000)\",\"Large (2000-5000)\"]\n",
    "#Average math score, average reading score, %passing math, %passing reading\n",
    "#overal Passing rate (average of the above two)\n",
    "#bins as rows  "
   ]
  },
  {
   "cell_type": "code",
   "execution_count": null,
   "metadata": {},
   "outputs": [],
   "source": [
    "Scores by School type\n",
    "rows school type\n",
    "#Average math score, average reading score, %passing math, %passing reading\n",
    "#overal Passing rate (average of the above two)\n",
    "#bins as rows  "
   ]
  }
 ],
 "metadata": {
  "kernelspec": {
   "display_name": "Python [conda env:root]",
   "language": "python",
   "name": "conda-root-py"
  },
  "language_info": {
   "codemirror_mode": {
    "name": "ipython",
    "version": 3
   },
   "file_extension": ".py",
   "mimetype": "text/x-python",
   "name": "python",
   "nbconvert_exporter": "python",
   "pygments_lexer": "ipython3",
   "version": "3.7.0"
  }
 },
 "nbformat": 4,
 "nbformat_minor": 2
}
